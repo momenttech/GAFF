{
 "cells": [
  {
   "cell_type": "markdown",
   "metadata": {},
   "source": [
    "#### Imports :"
   ]
  },
  {
   "cell_type": "code",
   "execution_count": 1,
   "metadata": {},
   "outputs": [],
   "source": [
    "import json\n",
    "import os\n",
    "import random\n",
    "import spacy\n",
    "\n",
    "from errorTyping import genErrorTyping\n",
    "from errorPhoneme import genErrorPhoneme\n",
    "from inversion import genInversionLetterKeypad\n",
    "from oversight import genOversightLetter"
   ]
  },
  {
   "cell_type": "markdown",
   "metadata": {},
   "source": [
    "#### [ ! ] Variables (toujours vérifier avant lancement du _notebook_) :"
   ]
  },
  {
   "cell_type": "code",
   "execution_count": 2,
   "metadata": {},
   "outputs": [],
   "source": [
    "nlp = spacy.load('fr_fasttext_lg')\n",
    "nameOfHealthyCorpus = 'inputs/wikiTest'\n",
    "# nameOfCorpusHealthyAndSickWordCorpus = 'compromisedCorpus.csv'\n",
    "nameOfCorpusHealthyAndSickWordCorpus = 'results/CC-WikiTest.txt'\n",
    "errorLigneGenCorpus = 'results/testDeGen.txt'\n",
    "\n",
    "resultFile = open(nameOfCorpusHealthyAndSickWordCorpus, \"a\")"
   ]
  },
  {
   "cell_type": "markdown",
   "metadata": {},
   "source": [
    "#### Méthodes :"
   ]
  },
  {
   "cell_type": "code",
   "execution_count": 3,
   "metadata": {},
   "outputs": [],
   "source": [
    "def choiceConfigKeyboard():\n",
    "    repository = \"disposition_clavier/\"                 # repertoire où réside les fichiers dictionnaires\n",
    "    listFileName = os.listdir(repository)               # fonction permettant de lister l'ensemble des fichiers dans le repertoire\n",
    "    print(\"This keyboard config are available :\")\n",
    "    i = 0\n",
    "\n",
    "    for fileName in listFileName:                       # pour chaque nom de fichier présent dans la liste des fichiers listé précèdement\n",
    "        indice = str(i)\n",
    "        print(\"[\" + indice + \"]: \" + fileName)          # affichage de ces fichiers avec leur numéro dans la liste\n",
    "        i += 1\n",
    "\n",
    "    choice = input(\"Thanks to choose keyboard disposition: [default: 0] \")\n",
    "\n",
    "    if choice in ('0', '1', '2', '3', '4', '5', '6', '7', '8', '9') and isinstance(choice, int) is False:   # en admettant que la liste ne peux etre plus grande que 9\n",
    "        chc = int(choice)                               # formate le choix de l'utilisateur en INT\n",
    "        choiceKeyboard = listFileName[chc]\n",
    "        return choiceKeyboard                           # en fonction du choix donné par le user, affichage du fichier concerné\n",
    "    if choice == '':\n",
    "        choiceKeyboard = listFileName[0]                # si vide, alors application du choix par défaut : 0, donc le premier de la liste\n",
    "        return choiceKeyboard\n",
    "    else:\n",
    "        print(\"It's not what is expected ! retry ...\")  # si cette condition est rempli c'est que l'utilmisateur a tenté de rentrer un caractère nom attendu\n",
    "        choiceConfigKeyboard()                          # on lui demande donc de reformuler sa saisie"
   ]
  },
  {
   "cell_type": "code",
   "execution_count": 4,
   "metadata": {},
   "outputs": [],
   "source": [
    "def splitText(text):\n",
    "    tmpTextForTreatment = text.split(' ')\n",
    "    return tmpTextForTreatment"
   ]
  },
  {
   "cell_type": "code",
   "execution_count": 5,
   "metadata": {},
   "outputs": [],
   "source": [
    "def freqWordWithMist():\n",
    "    nWord = input(\"\\nWhat will be the frequency of words with mistakes ?\\n[min: 1; max: 9; default: 1] \")\n",
    "    print(\"\\n\")\n",
    "\n",
    "    if nWord == \"\":\n",
    "        nWord = 1\n",
    "        return nWord\n",
    "    if nWord not in ('1', '2', '3', '4', '5', '6', '7', '8', '9'):\n",
    "        print(\"Input value incorrect. Must be integer or in the range given !\")\n",
    "        freqWordWithMist()\n",
    "    else:\n",
    "        return nWord"
   ]
  },
  {
   "cell_type": "code",
   "execution_count": 6,
   "metadata": {},
   "outputs": [],
   "source": [
    "def randomChoiceinTblOfWord(tblOfWrd):\n",
    "    # print(\"with love\")\n",
    "    # print(\"\\nMot dans le tableau :\", tblOfWrd)\n",
    "    # print(\"Longueur du tableau : \", tblOfWrd.__len__())\n",
    "    r = random.randint(0, tblOfWrd.__len__() - 1)\n",
    "    # print(\"Random :\", r)\n",
    "    # print(tblOfWrd[r])\n",
    "    return tblOfWrd[r]"
   ]
  },
  {
   "cell_type": "code",
   "execution_count": 79,
   "metadata": {},
   "outputs": [],
   "source": [
    "def generateErrorInWord(kbrd, frequency, text):\n",
    "    \n",
    "    print('entrée: ', text)\n",
    "    free = False\n",
    "    \n",
    "    for indice in range(0, text.__len__(), frequency):\n",
    "\n",
    "        r = random.randint(1, 4)\n",
    "        print('r : ', r)\n",
    "        tblOfWordReturn = []\n",
    "        print('mot en cours : ', text[indice])\n",
    "            \n",
    "        switch = {\n",
    "            1: genErrorTyping(nlp, kbrd, text[indice]),\n",
    "            2: genInversionLetterKeypad(nlp, text[indice]),\n",
    "            3: genOversightLetter(nlp, text[indice]),\n",
    "            4: genErrorPhoneme(nlp, text[indice])\n",
    "        }\n",
    "        tblOfWordReturn=switch.get(r)\n",
    "        \n",
    "        if tblOfWordReturn == [''] or not tblOfWordReturn:\n",
    "            text[indice] = text[indice]\n",
    "        else:\n",
    "            text[indice] = randomChoiceinTblOfWord(tblOfWordReturn)\n",
    "            free = True\n",
    "\n",
    "    if free == True:\n",
    "        textToShow = \" \".join(text)\n",
    "        print('textToShow : ', textToShow)\n",
    "        text = []\n",
    "        return textToShow\n",
    "    \n",
    "    else:\n",
    "        print('No change noted')\n",
    "        textToShow = generateErrorInWord(kbrd, frequency, text)\n",
    "        return textToShow"
   ]
  },
  {
   "cell_type": "markdown",
   "metadata": {},
   "source": [
    "#### Envoi en sauvegarde :"
   ]
  },
  {
   "cell_type": "code",
   "execution_count": 80,
   "metadata": {},
   "outputs": [],
   "source": [
    "def saveResult(idOfHealthyText, healhyText, cancerText):\n",
    "\n",
    "    ###resultFile.write(idOfHealthyText)\n",
    "    ###resultFile.write(\"µ\")\n",
    "    resultFile.write(cancerText)\n",
    "    resultFile.write('.')\n",
    "    resultFile.write(\"\\t\")\n",
    "    resultFile.write(healhyText)\n",
    "    resultFile.write('.')\n",
    "    resultFile.write(\"\\n\")"
   ]
  },
  {
   "cell_type": "markdown",
   "metadata": {},
   "source": [
    "### Main :"
   ]
  },
  {
   "cell_type": "code",
   "execution_count": 81,
   "metadata": {},
   "outputs": [
    {
     "name": "stdout",
     "output_type": "stream",
     "text": [
      "This keyboard config are available :\n",
      "[0]: azerty-numberPad_hori.txt\n",
      "[1]: azerty-numberPad_hori-verti-diag.txt\n",
      "[2]: azerty_hori-verti.txt\n",
      "[3]: azerty_hori.txt\n",
      "[4]: azerty-numberPad_hori-verti.txt\n",
      "[5]: azerty_hori-verti-diag.txt\n",
      "Thanks to choose keyboard disposition: [default: 0] \n",
      "azerty-numberPad_hori.txt choosed\n",
      "\n",
      "What will be the frequency of words with mistakes ?\n",
      "[min: 1; max: 9; default: 1] \n",
      "\n",
      "\n",
      "Before :  Oscar du cinéma\n",
      "['Oscar', 'du', 'cinéma']\n",
      "entrée:  ['Oscar', 'du', 'cinéma']\n",
      "r :  3\n",
      "mot en cours :  Oscar\n",
      "r :  2\n",
      "mot en cours :  du\n",
      "r :  2\n",
      "mot en cours :  cinéma\n",
      "textToShow :  Oscar du cniéma\n",
      "Text with mistake :  Oscar du cniéma \n",
      "\n",
      "Before :  Démocratie directe\n",
      "['Démocratie', 'directe']\n",
      "entrée:  ['Démocratie', 'directe']\n",
      "r :  4\n",
      "mot en cours :  Démocratie\n",
      "r :  4\n",
      "mot en cours :  directe\n",
      "textToShow :  Démocratye dyrecte\n",
      "Text with mistake :  Démocratye dyrecte \n",
      "\n",
      "Before :  Guy Parmelin\n",
      "['Guy', 'Parmelin']\n",
      "entrée:  ['Guy', 'Parmelin']\n",
      "r :  3\n",
      "mot en cours :  Guy\n",
      "r :  1\n",
      "mot en cours :  Parmelin\n",
      "No change noted\n",
      "entrée:  ['Guy', 'Parmelin']\n",
      "r :  3\n",
      "mot en cours :  Guy\n",
      "r :  3\n",
      "mot en cours :  Parmelin\n",
      "textToShow :  Guy Parelin\n",
      "Text with mistake :  Guy Parelin \n",
      "\n",
      "Before :  Nadja Pieren\n",
      "['Nadja', 'Pieren']\n",
      "entrée:  ['Nadja', 'Pieren']\n",
      "r :  1\n",
      "mot en cours :  Nadja\n",
      "r :  1\n",
      "mot en cours :  Pieren\n",
      "No change noted\n",
      "entrée:  ['Nadja', 'Pieren']\n",
      "r :  4\n",
      "mot en cours :  Nadja\n",
      "r :  3\n",
      "mot en cours :  Pieren\n",
      "textToShow :  Nadja ieren\n",
      "Text with mistake :  Nadja ieren \n",
      "\n",
      "Before :  Politique familiale\n",
      "['Politique', 'familiale']\n",
      "entrée:  ['Politique', 'familiale']\n",
      "r :  3\n",
      "mot en cours :  Politique\n",
      "r :  3\n",
      "mot en cours :  familiale\n",
      "textToShow :  Politique amiliale\n",
      "Text with mistake :  Politique amiliale \n",
      "\n",
      "\n",
      "\n",
      "Finish !\n"
     ]
    }
   ],
   "source": [
    "if __name__ == '__main__':\n",
    "\n",
    "    keyboard = str(choiceConfigKeyboard())\n",
    "    print(keyboard + \" choosed\")\n",
    "\n",
    "    nWord = int(freqWordWithMist())\n",
    "    jsonToLoad = open(nameOfHealthyCorpus, 'r')\n",
    "    \n",
    "    j = 0\n",
    "\n",
    "    for ligne in jsonToLoad:\n",
    "        try:\n",
    "            jsonsLine = json.loads(ligne)\n",
    "            lId = jsonsLine['id']\n",
    "            leText = jsonsLine['text']\n",
    "            if len(leText) < 50 and len(leText) > 5:\n",
    "                print('Before : ', leText)\n",
    "                initialText = splitText(leText)\n",
    "                print(initialText)\n",
    "                if j == 0:\n",
    "                    for i in range(1): # nombre de fois que nous passons la phrase dans le générateur de fautes\n",
    "                        textWithMist = generateErrorInWord(keyboard, nWord, initialText)\n",
    "                        print('Text with mistake : ', textWithMist, '\\n')\n",
    "                        # leText = \" \".join(leText)\n",
    "                        # saveResult(lId, leText, textWithMist)\n",
    "                        # nWord += 1\n",
    "                    # j += 1\n",
    "                else:\n",
    "                    saveResult(lId, leText, leText)\n",
    "                    j += 1\n",
    "                \n",
    "                if j == 3:\n",
    "                    j = 0\n",
    "                \n",
    "        except:\n",
    "            errorFile = open(errorLigneGenCorpus, \"a\")\n",
    "            errorFile.write(json.dumps(jsonsLine))\n",
    "            errorFile.write('\\n')\n",
    "            errorFile.close()\n",
    "            # print('-----ERROR-----\\n', jsonsLine, '\\n----- END -----')\n",
    "\n",
    "    resultFile.close()\n",
    "\n",
    "    print(\"\\n\\nFinish !\")"
   ]
  },
  {
   "cell_type": "code",
   "execution_count": null,
   "metadata": {},
   "outputs": [],
   "source": []
  },
  {
   "cell_type": "code",
   "execution_count": null,
   "metadata": {},
   "outputs": [],
   "source": []
  }
 ],
 "metadata": {
  "kernelspec": {
   "display_name": "Python 3",
   "language": "python",
   "name": "python3"
  },
  "language_info": {
   "codemirror_mode": {
    "name": "ipython",
    "version": 3
   },
   "file_extension": ".py",
   "mimetype": "text/x-python",
   "name": "python",
   "nbconvert_exporter": "python",
   "pygments_lexer": "ipython3",
   "version": "3.6.8"
  }
 },
 "nbformat": 4,
 "nbformat_minor": 2
}
